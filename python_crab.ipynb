{
 "cells": [
  {
   "cell_type": "code",
   "execution_count": 2,
   "metadata": {},
   "outputs": [
    {
     "name": "stdout",
     "output_type": "stream",
     "text": [
      "   site county  pm25  datacreationdate itemunit\n",
      "0    大城    彰化縣   NaN  2024-07-02 12:00    μg/m3\n",
      "1   富貴角    新北市  15.0  2024-07-02 12:00    μg/m3\n",
      "2    麥寮    雲林縣   3.0  2024-07-02 12:00    μg/m3\n",
      "3    關山    臺東縣   6.0  2024-07-02 12:00    μg/m3\n",
      "4    馬公    澎湖縣   4.0  2024-07-02 12:00    μg/m3\n",
      "..  ...    ...   ...               ...      ...\n",
      "73   土城    新北市  16.0  2024-07-02 12:00    μg/m3\n",
      "74   新店    新北市  13.0  2024-07-02 12:00    μg/m3\n",
      "75   萬里    新北市   7.0  2024-07-02 12:00    μg/m3\n",
      "76   汐止    新北市   NaN  2024-07-02 12:00    μg/m3\n",
      "77   基隆    基隆市   6.0  2024-07-02 12:00    μg/m3\n",
      "\n",
      "[78 rows x 5 columns]\n"
     ]
    }
   ],
   "source": [
    "import pandas as pd\n",
    "url = \"https://data.moenv.gov.tw/api/v2/aqx_p_02?api_key=e8dd42e6-9b8b-43f8-991e-b3dee723a52d&limit=1000&sort=datacreationdate desc&format=CSV\"\n",
    "url = url.replace(\" \", \"%20\")\n",
    "data = pd.read_csv(url, encoding=\"utf-8\")\n",
    "print(data)"
   ]
  }
 ],
 "metadata": {
  "kernelspec": {
   "display_name": "code_practice",
   "language": "python",
   "name": "python3"
  },
  "language_info": {
   "codemirror_mode": {
    "name": "ipython",
    "version": 3
   },
   "file_extension": ".py",
   "mimetype": "text/x-python",
   "name": "python",
   "nbconvert_exporter": "python",
   "pygments_lexer": "ipython3",
   "version": "3.12.2"
  }
 },
 "nbformat": 4,
 "nbformat_minor": 2
}
